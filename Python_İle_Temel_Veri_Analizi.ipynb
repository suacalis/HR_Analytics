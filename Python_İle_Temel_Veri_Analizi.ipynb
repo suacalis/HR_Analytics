{
  "nbformat": 4,
  "nbformat_minor": 0,
  "metadata": {
    "colab": {
      "name": "Python İle Temel Veri Analizi.ipynb",
      "provenance": [],
      "include_colab_link": true
    },
    "language_info": {
      "codemirror_mode": {
        "name": "ipython",
        "version": 3
      },
      "file_extension": ".py",
      "mimetype": "text/x-python",
      "name": "python",
      "nbconvert_exporter": "python",
      "pygments_lexer": "ipython3",
      "version": "3.7.1"
    },
    "kernelspec": {
      "display_name": "Python 3",
      "language": "python",
      "name": "python3"
    }
  },
  "cells": [
    {
      "cell_type": "markdown",
      "metadata": {
        "id": "view-in-github",
        "colab_type": "text"
      },
      "source": [
        "<a href=\"https://colab.research.google.com/github/suacalis/HR_Analytics/blob/master/Python_%C4%B0le_Temel_Veri_Analizi.ipynb\" target=\"_parent\"><img src=\"https://colab.research.google.com/assets/colab-badge.svg\" alt=\"Open In Colab\"/></a>"
      ]
    },
    {
      "cell_type": "markdown",
      "metadata": {
        "id": "LcfmRFydyaOL",
        "colab_type": "text"
      },
      "source": [
        "# Python İle Temel Veri Analizi"
      ]
    },
    {
      "cell_type": "markdown",
      "metadata": {
        "id": "2iPfJdWLyaOM",
        "colab_type": "text"
      },
      "source": [
        "## İÇİNDEKİLER\n",
        "\n",
        "* [Kütüphanelerin import edilmesi](#Kütüphanelerin-import-edilmesi)\n",
        "* [Verilerin yüklenmesi](#Verilerin-yüklenmesi)\n",
        "* [Veri Keşfinde İzlenecek Adımlar](#Veri-Keşfinde-İzlenecek-Adımlar)\n",
        "    * [Satırları okutmak](#Satırları-okutmak)\n",
        "        * [İlk beş satırı okutmak-head()](#İlk-beş-satırı-okutmak--head())\n",
        "        * [Son beş satırı okutmak- tail()](#Son-beş-satırı-okutmak--tail())\n",
        "        * [Satır ve sütunları kontrol- columns() ve axes()](#Satır-ve-sütunları-kontrol--columns()-ve-axes())\n",
        "        * [shape() komutu](#shape()-komutu)\n",
        "* [Veri Hakkında Özet Bilgi](#Veri-Hakkında-Özet-Bilgi)\n",
        "    * [info() komutu](#info()-komutu)\n",
        "    * [astype() komutu](#astype()-komutu)\n",
        "    * [Boş ya da NaN değerleri silme- dropna()](#Boş-ya-da-NaN-değerleri-silme--dropna())\n",
        "    * [ Boş ya da nan değerlerin yerine değer atama- fillna()](#Boş-ya-da-nan-değerlerin-yerine-değer-atama--fillna())\n",
        "    * [Belirli sayıda nan değerleri silme-thresh()](#Belirli-sayıda-nan-değerleri-silme-thresh())\n",
        "    "
      ]
    },
    {
      "cell_type": "markdown",
      "metadata": {
        "id": "aDSHoWKeyaON",
        "colab_type": "text"
      },
      "source": [
        "Veri analizine başlarken ilk yapmamız gereken, kullanacağımız ana kütüphanelerin yüklemek olmalıdır.\n",
        "\n",
        "Veri analizlerinde temel olarak kullanılan başlıca kütüphaneler; **pandas,numpy ve matplotlibdir.** \n",
        "\n",
        "Bunlardan pandas ve numpy veri üzerinde işlem yapmamızı sağlarken, matplotlib kütüphanesi verilerimizi görselleştirmemizi sağlar ve görsel olarak veriler arasında nasıl bir ilişki olduğu hakkında bize fikir verir.\n",
        "\n",
        "\n",
        "Ayrıca seaborn ve plotly gibi görselleştirme kütüphaneleri de mevcuttur. İlk aşamada matplotlib işimizi görmektedir. Görselleştirme kütüphaneleri ayrı bir yazıda anlatılacaktır.\n"
      ]
    },
    {
      "cell_type": "markdown",
      "metadata": {
        "id": "pREmKIKdyaOO",
        "colab_type": "text"
      },
      "source": [
        "## Kütüphanelerin import edilmesi \n",
        "<a id=\"optparam\"></a>\n",
        "\n",
        "Kütüphaneler, **import** komutu ile yüklenmektedir. İmport komutundan sonra yüklenmek istenen kütüphane yazılır. sonrasında yazılan **as** komutu ise yüklemek istediğimiz kütüphaneyi hangi kısaltma ile ifade edeceğimizi belirtmemize yarar."
      ]
    },
    {
      "cell_type": "code",
      "metadata": {
        "id": "cCAjtYZJyaOO",
        "colab_type": "code",
        "colab": {}
      },
      "source": [
        "import pandas as pd\n",
        "import numpy as np\n",
        "import matplotlib as plt\n",
        "from google.colab import files\n",
        "import io\n"
      ],
      "execution_count": 0,
      "outputs": []
    },
    {
      "cell_type": "code",
      "metadata": {
        "id": "sCVig36omGhA",
        "colab_type": "code",
        "outputId": "235d0ae3-0539-4c4e-c368-7199e8d14290",
        "colab": {
          "base_uri": "https://localhost:8080/",
          "height": 34
        }
      },
      "source": [
        "!ls"
      ],
      "execution_count": 0,
      "outputs": [
        {
          "output_type": "stream",
          "text": [
            "sample_data\n"
          ],
          "name": "stdout"
        }
      ]
    },
    {
      "cell_type": "markdown",
      "metadata": {
        "id": "Eeb5BMqayaOR",
        "colab_type": "text"
      },
      "source": [
        "## Verilerin yüklenmesi \n",
        "<a id=\"optparam\"></a>"
      ]
    },
    {
      "cell_type": "markdown",
      "metadata": {
        "id": "nSf-w9IsyaOS",
        "colab_type": "text"
      },
      "source": [
        "Veriler yüklenirken **dikkat** edilmesi gereken bazı hususlar vardır. \n",
        "Bunlar;\n",
        "\n",
        "1-Verilerinizin **dosya biçimi** ile **pandasta okutmak istediğiniz biçimin** aynı olması.\n",
        "\n",
        "2-Veriniz ile **açtığınız** python çalışma sayfasının **aynı yerde olması.**(Farklı yerde ise konumuna dikkat edilmesi)"
      ]
    },
    {
      "cell_type": "markdown",
      "metadata": {
        "id": "8N_wwuIvyaOT",
        "colab_type": "text"
      },
      "source": [
        "***Pandasta bulunan başlıca okuma stilleri ve komutları***\n",
        "\n",
        "\n",
        "CSV--read_csv\n",
        "\n",
        "JSON--read_json\n",
        "\n",
        "HTML--read_html\n",
        "\n",
        "MS Excel--read_excel\t\n",
        "\n",
        "Stata--read_stata\n",
        "\n",
        "SAS--read_sas\t\n",
        "\n",
        "SQL--read_sql\n",
        "\n",
        "Temel olarak kullanılan dosya biçimleri bu şekildedir. Daha fazla dosya biçimi için pandas dökümantasyonuna bakabilirsiniz.\n",
        "\n",
        "https://pandas.pydata.org/pandas-docs/stable/user_guide/io.html"
      ]
    },
    {
      "cell_type": "code",
      "metadata": {
        "id": "ELTSCGd0yaOT",
        "colab_type": "code",
        "outputId": "79c24185-257d-4428-d3f0-4712e27150f9",
        "colab": {
          "base_uri": "https://localhost:8080/",
          "height": 323
        }
      },
      "source": [
        "data = pd.read_excel('data.xlsx')"
      ],
      "execution_count": 0,
      "outputs": [
        {
          "output_type": "error",
          "ename": "FileNotFoundError",
          "evalue": "ignored",
          "traceback": [
            "\u001b[0;31m---------------------------------------------------------------------------\u001b[0m",
            "\u001b[0;31mFileNotFoundError\u001b[0m                         Traceback (most recent call last)",
            "\u001b[0;32m<ipython-input-27-d4b807c641e9>\u001b[0m in \u001b[0;36m<module>\u001b[0;34m()\u001b[0m\n\u001b[0;32m----> 1\u001b[0;31m \u001b[0mdata\u001b[0m \u001b[0;34m=\u001b[0m \u001b[0mpd\u001b[0m\u001b[0;34m.\u001b[0m\u001b[0mread_excel\u001b[0m\u001b[0;34m(\u001b[0m\u001b[0;34m'data.xlsx'\u001b[0m\u001b[0;34m)\u001b[0m\u001b[0;34m\u001b[0m\u001b[0;34m\u001b[0m\u001b[0m\n\u001b[0m",
            "\u001b[0;32m/usr/local/lib/python3.6/dist-packages/pandas/util/_decorators.py\u001b[0m in \u001b[0;36mwrapper\u001b[0;34m(*args, **kwargs)\u001b[0m\n\u001b[1;32m    186\u001b[0m                 \u001b[0;32melse\u001b[0m\u001b[0;34m:\u001b[0m\u001b[0;34m\u001b[0m\u001b[0;34m\u001b[0m\u001b[0m\n\u001b[1;32m    187\u001b[0m                     \u001b[0mkwargs\u001b[0m\u001b[0;34m[\u001b[0m\u001b[0mnew_arg_name\u001b[0m\u001b[0;34m]\u001b[0m \u001b[0;34m=\u001b[0m \u001b[0mnew_arg_value\u001b[0m\u001b[0;34m\u001b[0m\u001b[0;34m\u001b[0m\u001b[0m\n\u001b[0;32m--> 188\u001b[0;31m             \u001b[0;32mreturn\u001b[0m \u001b[0mfunc\u001b[0m\u001b[0;34m(\u001b[0m\u001b[0;34m*\u001b[0m\u001b[0margs\u001b[0m\u001b[0;34m,\u001b[0m \u001b[0;34m**\u001b[0m\u001b[0mkwargs\u001b[0m\u001b[0;34m)\u001b[0m\u001b[0;34m\u001b[0m\u001b[0;34m\u001b[0m\u001b[0m\n\u001b[0m\u001b[1;32m    189\u001b[0m         \u001b[0;32mreturn\u001b[0m \u001b[0mwrapper\u001b[0m\u001b[0;34m\u001b[0m\u001b[0;34m\u001b[0m\u001b[0m\n\u001b[1;32m    190\u001b[0m     \u001b[0;32mreturn\u001b[0m \u001b[0m_deprecate_kwarg\u001b[0m\u001b[0;34m\u001b[0m\u001b[0;34m\u001b[0m\u001b[0m\n",
            "\u001b[0;32m/usr/local/lib/python3.6/dist-packages/pandas/util/_decorators.py\u001b[0m in \u001b[0;36mwrapper\u001b[0;34m(*args, **kwargs)\u001b[0m\n\u001b[1;32m    186\u001b[0m                 \u001b[0;32melse\u001b[0m\u001b[0;34m:\u001b[0m\u001b[0;34m\u001b[0m\u001b[0;34m\u001b[0m\u001b[0m\n\u001b[1;32m    187\u001b[0m                     \u001b[0mkwargs\u001b[0m\u001b[0;34m[\u001b[0m\u001b[0mnew_arg_name\u001b[0m\u001b[0;34m]\u001b[0m \u001b[0;34m=\u001b[0m \u001b[0mnew_arg_value\u001b[0m\u001b[0;34m\u001b[0m\u001b[0;34m\u001b[0m\u001b[0m\n\u001b[0;32m--> 188\u001b[0;31m             \u001b[0;32mreturn\u001b[0m \u001b[0mfunc\u001b[0m\u001b[0;34m(\u001b[0m\u001b[0;34m*\u001b[0m\u001b[0margs\u001b[0m\u001b[0;34m,\u001b[0m \u001b[0;34m**\u001b[0m\u001b[0mkwargs\u001b[0m\u001b[0;34m)\u001b[0m\u001b[0;34m\u001b[0m\u001b[0;34m\u001b[0m\u001b[0m\n\u001b[0m\u001b[1;32m    189\u001b[0m         \u001b[0;32mreturn\u001b[0m \u001b[0mwrapper\u001b[0m\u001b[0;34m\u001b[0m\u001b[0;34m\u001b[0m\u001b[0m\n\u001b[1;32m    190\u001b[0m     \u001b[0;32mreturn\u001b[0m \u001b[0m_deprecate_kwarg\u001b[0m\u001b[0;34m\u001b[0m\u001b[0;34m\u001b[0m\u001b[0m\n",
            "\u001b[0;32m/usr/local/lib/python3.6/dist-packages/pandas/io/excel.py\u001b[0m in \u001b[0;36mread_excel\u001b[0;34m(io, sheet_name, header, names, index_col, parse_cols, usecols, squeeze, dtype, engine, converters, true_values, false_values, skiprows, nrows, na_values, keep_default_na, verbose, parse_dates, date_parser, thousands, comment, skip_footer, skipfooter, convert_float, mangle_dupe_cols, **kwds)\u001b[0m\n\u001b[1;32m    348\u001b[0m \u001b[0;34m\u001b[0m\u001b[0m\n\u001b[1;32m    349\u001b[0m     \u001b[0;32mif\u001b[0m \u001b[0;32mnot\u001b[0m \u001b[0misinstance\u001b[0m\u001b[0;34m(\u001b[0m\u001b[0mio\u001b[0m\u001b[0;34m,\u001b[0m \u001b[0mExcelFile\u001b[0m\u001b[0;34m)\u001b[0m\u001b[0;34m:\u001b[0m\u001b[0;34m\u001b[0m\u001b[0;34m\u001b[0m\u001b[0m\n\u001b[0;32m--> 350\u001b[0;31m         \u001b[0mio\u001b[0m \u001b[0;34m=\u001b[0m \u001b[0mExcelFile\u001b[0m\u001b[0;34m(\u001b[0m\u001b[0mio\u001b[0m\u001b[0;34m,\u001b[0m \u001b[0mengine\u001b[0m\u001b[0;34m=\u001b[0m\u001b[0mengine\u001b[0m\u001b[0;34m)\u001b[0m\u001b[0;34m\u001b[0m\u001b[0;34m\u001b[0m\u001b[0m\n\u001b[0m\u001b[1;32m    351\u001b[0m \u001b[0;34m\u001b[0m\u001b[0m\n\u001b[1;32m    352\u001b[0m     return io.parse(\n",
            "\u001b[0;32m/usr/local/lib/python3.6/dist-packages/pandas/io/excel.py\u001b[0m in \u001b[0;36m__init__\u001b[0;34m(self, io, engine)\u001b[0m\n\u001b[1;32m    651\u001b[0m         \u001b[0mself\u001b[0m\u001b[0;34m.\u001b[0m\u001b[0m_io\u001b[0m \u001b[0;34m=\u001b[0m \u001b[0m_stringify_path\u001b[0m\u001b[0;34m(\u001b[0m\u001b[0mio\u001b[0m\u001b[0;34m)\u001b[0m\u001b[0;34m\u001b[0m\u001b[0;34m\u001b[0m\u001b[0m\n\u001b[1;32m    652\u001b[0m \u001b[0;34m\u001b[0m\u001b[0m\n\u001b[0;32m--> 653\u001b[0;31m         \u001b[0mself\u001b[0m\u001b[0;34m.\u001b[0m\u001b[0m_reader\u001b[0m \u001b[0;34m=\u001b[0m \u001b[0mself\u001b[0m\u001b[0;34m.\u001b[0m\u001b[0m_engines\u001b[0m\u001b[0;34m[\u001b[0m\u001b[0mengine\u001b[0m\u001b[0;34m]\u001b[0m\u001b[0;34m(\u001b[0m\u001b[0mself\u001b[0m\u001b[0;34m.\u001b[0m\u001b[0m_io\u001b[0m\u001b[0;34m)\u001b[0m\u001b[0;34m\u001b[0m\u001b[0;34m\u001b[0m\u001b[0m\n\u001b[0m\u001b[1;32m    654\u001b[0m \u001b[0;34m\u001b[0m\u001b[0m\n\u001b[1;32m    655\u001b[0m     \u001b[0;32mdef\u001b[0m \u001b[0m__fspath__\u001b[0m\u001b[0;34m(\u001b[0m\u001b[0mself\u001b[0m\u001b[0;34m)\u001b[0m\u001b[0;34m:\u001b[0m\u001b[0;34m\u001b[0m\u001b[0;34m\u001b[0m\u001b[0m\n",
            "\u001b[0;32m/usr/local/lib/python3.6/dist-packages/pandas/io/excel.py\u001b[0m in \u001b[0;36m__init__\u001b[0;34m(self, filepath_or_buffer)\u001b[0m\n\u001b[1;32m    422\u001b[0m             \u001b[0mself\u001b[0m\u001b[0;34m.\u001b[0m\u001b[0mbook\u001b[0m \u001b[0;34m=\u001b[0m \u001b[0mxlrd\u001b[0m\u001b[0;34m.\u001b[0m\u001b[0mopen_workbook\u001b[0m\u001b[0;34m(\u001b[0m\u001b[0mfile_contents\u001b[0m\u001b[0;34m=\u001b[0m\u001b[0mdata\u001b[0m\u001b[0;34m)\u001b[0m\u001b[0;34m\u001b[0m\u001b[0;34m\u001b[0m\u001b[0m\n\u001b[1;32m    423\u001b[0m         \u001b[0;32melif\u001b[0m \u001b[0misinstance\u001b[0m\u001b[0;34m(\u001b[0m\u001b[0mfilepath_or_buffer\u001b[0m\u001b[0;34m,\u001b[0m \u001b[0mcompat\u001b[0m\u001b[0;34m.\u001b[0m\u001b[0mstring_types\u001b[0m\u001b[0;34m)\u001b[0m\u001b[0;34m:\u001b[0m\u001b[0;34m\u001b[0m\u001b[0;34m\u001b[0m\u001b[0m\n\u001b[0;32m--> 424\u001b[0;31m             \u001b[0mself\u001b[0m\u001b[0;34m.\u001b[0m\u001b[0mbook\u001b[0m \u001b[0;34m=\u001b[0m \u001b[0mxlrd\u001b[0m\u001b[0;34m.\u001b[0m\u001b[0mopen_workbook\u001b[0m\u001b[0;34m(\u001b[0m\u001b[0mfilepath_or_buffer\u001b[0m\u001b[0;34m)\u001b[0m\u001b[0;34m\u001b[0m\u001b[0;34m\u001b[0m\u001b[0m\n\u001b[0m\u001b[1;32m    425\u001b[0m         \u001b[0;32melse\u001b[0m\u001b[0;34m:\u001b[0m\u001b[0;34m\u001b[0m\u001b[0;34m\u001b[0m\u001b[0m\n\u001b[1;32m    426\u001b[0m             raise ValueError('Must explicitly set engine if not passing in'\n",
            "\u001b[0;32m/usr/local/lib/python3.6/dist-packages/xlrd/__init__.py\u001b[0m in \u001b[0;36mopen_workbook\u001b[0;34m(filename, logfile, verbosity, use_mmap, file_contents, encoding_override, formatting_info, on_demand, ragged_rows)\u001b[0m\n\u001b[1;32m    114\u001b[0m         \u001b[0mpeek\u001b[0m \u001b[0;34m=\u001b[0m \u001b[0mfile_contents\u001b[0m\u001b[0;34m[\u001b[0m\u001b[0;34m:\u001b[0m\u001b[0mpeeksz\u001b[0m\u001b[0;34m]\u001b[0m\u001b[0;34m\u001b[0m\u001b[0;34m\u001b[0m\u001b[0m\n\u001b[1;32m    115\u001b[0m     \u001b[0;32melse\u001b[0m\u001b[0;34m:\u001b[0m\u001b[0;34m\u001b[0m\u001b[0;34m\u001b[0m\u001b[0m\n\u001b[0;32m--> 116\u001b[0;31m         \u001b[0;32mwith\u001b[0m \u001b[0mopen\u001b[0m\u001b[0;34m(\u001b[0m\u001b[0mfilename\u001b[0m\u001b[0;34m,\u001b[0m \u001b[0;34m\"rb\"\u001b[0m\u001b[0;34m)\u001b[0m \u001b[0;32mas\u001b[0m \u001b[0mf\u001b[0m\u001b[0;34m:\u001b[0m\u001b[0;34m\u001b[0m\u001b[0;34m\u001b[0m\u001b[0m\n\u001b[0m\u001b[1;32m    117\u001b[0m             \u001b[0mpeek\u001b[0m \u001b[0;34m=\u001b[0m \u001b[0mf\u001b[0m\u001b[0;34m.\u001b[0m\u001b[0mread\u001b[0m\u001b[0;34m(\u001b[0m\u001b[0mpeeksz\u001b[0m\u001b[0;34m)\u001b[0m\u001b[0;34m\u001b[0m\u001b[0;34m\u001b[0m\u001b[0m\n\u001b[1;32m    118\u001b[0m     \u001b[0;32mif\u001b[0m \u001b[0mpeek\u001b[0m \u001b[0;34m==\u001b[0m \u001b[0;34mb\"PK\\x03\\x04\"\u001b[0m\u001b[0;34m:\u001b[0m \u001b[0;31m# a ZIP file\u001b[0m\u001b[0;34m\u001b[0m\u001b[0;34m\u001b[0m\u001b[0m\n",
            "\u001b[0;31mFileNotFoundError\u001b[0m: [Errno 2] No such file or directory: 'data.xlsx'"
          ]
        }
      ]
    },
    {
      "cell_type": "markdown",
      "metadata": {
        "id": "_q0rNB3jyaOW",
        "colab_type": "text"
      },
      "source": [
        "## Veri Keşfinde İzlenecek Adımlar\n",
        "<a id=\"optparam\"></a>"
      ]
    },
    {
      "cell_type": "markdown",
      "metadata": {
        "id": "7EnPlbN0yaOW",
        "colab_type": "text"
      },
      "source": [
        "Verileri pandas ile okuttuktan sonra bir takım kontroller yapmak verilerin doğruluğu ve veriler üzerinde yapılacak olan işlemler açısından oldukça önemlidir. Veri analizinin büyük bir kısmının burada şekillendiğini unutmamak gerekir."
      ]
    },
    {
      "cell_type": "markdown",
      "metadata": {
        "id": "WPbq_5FtyaOX",
        "colab_type": "text"
      },
      "source": [
        "Veri analizi kütüphaneleri ile çalışırken ilk olarak dikkat etmemiz gereken konulardan bir tanesi verinizin tipidir. Veri analizinde genellikle Series ve DataFrame veri tipleri ile çalışılmaktadır.\n",
        "\n",
        "Seri: Sadece tek bir diziden oluşurken\n",
        "`[1,2,3,4,5]` gibi\n",
        "\n",
        "DataFrame: serilerden oluşmaktadır.\n",
        "```\n",
        "[1,2,3],\n",
        "[4,5,6]\n",
        "```\n",
        "\n",
        "`type()` metodu ile verilerimizin türünü rahatlıkla kontrol edebiliriz. Eğer verileriniz analize uygun türde değilse verilerinizi dönüştürmek gerekmektedir."
      ]
    },
    {
      "cell_type": "code",
      "metadata": {
        "id": "8Z_bw-tHyaOY",
        "colab_type": "code",
        "colab": {}
      },
      "source": [
        "type(data.issizlik)"
      ],
      "execution_count": 0,
      "outputs": []
    },
    {
      "cell_type": "code",
      "metadata": {
        "id": "aEWITQymyaOc",
        "colab_type": "code",
        "colab": {}
      },
      "source": [
        "type(data.enflasyon)"
      ],
      "execution_count": 0,
      "outputs": []
    },
    {
      "cell_type": "code",
      "metadata": {
        "id": "yEawUGm0yaOg",
        "colab_type": "code",
        "colab": {}
      },
      "source": [
        "type(data)"
      ],
      "execution_count": 0,
      "outputs": []
    },
    {
      "cell_type": "markdown",
      "metadata": {
        "id": "ILYT7pJOyaOj",
        "colab_type": "text"
      },
      "source": [
        "Burada serimiz direk olarak DataFrame olduğu için herhangi bir dönüştürme yapmayacağız.\n",
        "\n",
        "Fakat DataFrame'e dönüştürmek isteseydik `data = pd.DataFrame(data)` komutunu kullanacaktık."
      ]
    },
    {
      "cell_type": "markdown",
      "metadata": {
        "id": "TxwW7JtOyaOj",
        "colab_type": "text"
      },
      "source": [
        "### Satırları okutmak\n",
        "<a id=\"optparam\"></a>"
      ]
    },
    {
      "cell_type": "markdown",
      "metadata": {
        "id": "-vsE2w69yaOk",
        "colab_type": "text"
      },
      "source": [
        "#### İlk beş satırı okutmak -head()\n",
        "<a id=\"optparam\"></a>\n",
        "\n",
        "Çok büyük veri setleriyle çalıştığınızda veya verilere hızlıca göz atmak istediğinizde `head()` metodu kullanılmaktadır. Bu method baştan başlayarak kaç satır isterseniz onu gösterir.Parantez içine kaç satır görmek istediğinizi yazmanız yeterlidir."
      ]
    },
    {
      "cell_type": "code",
      "metadata": {
        "id": "CpAgPJSRyaOl",
        "colab_type": "code",
        "colab": {}
      },
      "source": [
        "data.head(5)"
      ],
      "execution_count": 0,
      "outputs": []
    },
    {
      "cell_type": "markdown",
      "metadata": {
        "id": "SmM8rydHyaOo",
        "colab_type": "text"
      },
      "source": [
        "#### Son beş satırı okutmak- tail()\n",
        "<a id=\"optparam\"></a>\n",
        "Verilerin satırlarını okuturken kullanılan bir diğer yöntem tail() yöntemidir. Bu yöntem sondan kaç satır isterseniz onu gösterir.Parantez içine  kaç satır görmek istediğinizi yazmanız yeterlidir."
      ]
    },
    {
      "cell_type": "code",
      "metadata": {
        "id": "GnVqxhVhyaOp",
        "colab_type": "code",
        "colab": {}
      },
      "source": [
        "data.tail()"
      ],
      "execution_count": 0,
      "outputs": []
    },
    {
      "cell_type": "code",
      "metadata": {
        "id": "MXr51SQEyaOs",
        "colab_type": "code",
        "colab": {}
      },
      "source": [
        "data.tail(3)"
      ],
      "execution_count": 0,
      "outputs": []
    },
    {
      "cell_type": "markdown",
      "metadata": {
        "id": "_Vex_X41yaOu",
        "colab_type": "text"
      },
      "source": [
        "#### Satır ve sütunları kontrol- columns() ve axes()\n",
        "<a id=\"optparam\"></a>"
      ]
    },
    {
      "cell_type": "code",
      "metadata": {
        "id": "zE8NOxxpyaOw",
        "colab_type": "code",
        "colab": {}
      },
      "source": [
        "data.columns"
      ],
      "execution_count": 0,
      "outputs": []
    },
    {
      "cell_type": "code",
      "metadata": {
        "id": "cGyCT4TayaO0",
        "colab_type": "code",
        "colab": {}
      },
      "source": [
        "data.axes"
      ],
      "execution_count": 0,
      "outputs": []
    },
    {
      "cell_type": "markdown",
      "metadata": {
        "id": "vXNAxSwyyaO4",
        "colab_type": "text"
      },
      "source": [
        "#### shape() komutu\n",
        "<a id=\"optparam\"></a>\n",
        "Verimizin kaç **satır** ve **sütundan** oluştuğunu gösterir. İlk yazan satır sayısı, ikincisi ise sütun sayısıdır.\n",
        "Veri üzerinde yapacağımız bazı işlemlerde verimizin satır ve sütun sayısı önem taşımaktadır."
      ]
    },
    {
      "cell_type": "code",
      "metadata": {
        "id": "AwdbR8OxyaO4",
        "colab_type": "code",
        "colab": {}
      },
      "source": [
        "data.shape"
      ],
      "execution_count": 0,
      "outputs": []
    },
    {
      "cell_type": "markdown",
      "metadata": {
        "id": "JikXSr9WyaO8",
        "colab_type": "text"
      },
      "source": [
        "### Veri Hakkında Özet Bilgi\n",
        "<a id=\"optparam\"></a>"
      ]
    },
    {
      "cell_type": "markdown",
      "metadata": {
        "id": "A9oOmN9eyaO9",
        "colab_type": "text"
      },
      "source": [
        "#### info() komutu\n",
        "<a id=\"optparam\"></a>\n",
        "\n",
        "`info()` komutu verinin ne türde olduğunu, kaç sütundan oluştuğu, değişkenlerinin ne tipte olduğu, veride boş yani **NaN** değer olup olmadığı hakkında bize fikir verir.\n",
        "\n",
        "Bu serinin türüne baktığımızda *DataFrame* olduğunu, 3 sütundan oluştuğunu, 160 satırdan oluştuğunu bunların 2 tanesinin boş olduğunu görmekteyiz. \n",
        "\n",
        "Ayrıca tarih değişkenin bir object yani string olduğunu, enflasyon ve işsizlik değişkenlerinin ise float değerler olduğunu görmekteyiz."
      ]
    },
    {
      "cell_type": "code",
      "metadata": {
        "id": "O-C74F60yaO-",
        "colab_type": "code",
        "colab": {}
      },
      "source": [
        "data.info()"
      ],
      "execution_count": 0,
      "outputs": []
    },
    {
      "cell_type": "markdown",
      "metadata": {
        "id": "4Uj8YxsLyaPC",
        "colab_type": "text"
      },
      "source": [
        "#### astype() komutu\n",
        "<a id=\"optparam\"></a>\n",
        "\n",
        "`info()` komutu ile değişkenlerimin tipini kontrol ettik. Burada bazen dosyaları okuturken **sayısal değerler string, string değerler de sayısal değer** olarak gözükebilmektedir. \n",
        "\n",
        "Bu tip hatalar *excel, csv* dosyalarını içeriye aktarırken okuma hatasından kaynaklanıyor olabilir. Bunun için değişkenlerimizi kontrol ettikten sonra eğer istediğimiz türde değilse değişkeni veri analizinde kullanacağımız tipe dönüştürmemiz gerekmektedir.\n",
        "\n",
        "Burada enflasyon ve işsizlik verisi float olarak gözükmekte olup analize uygun tiptedir.\n",
        "\n",
        "Bu değerler *str ya da object* olarak gözükseydi bunları `astype()` metodu ile dönüştürmemiz gerekecekti. "
      ]
    },
    {
      "cell_type": "code",
      "metadata": {
        "id": "XcE918A3yaPD",
        "colab_type": "code",
        "colab": {}
      },
      "source": [
        "#data['enflasyon'] = data['enflasyon'].astype('category')\n",
        "#data['issizlik'] = data['issizlik'].astype('int')"
      ],
      "execution_count": 0,
      "outputs": []
    },
    {
      "cell_type": "markdown",
      "metadata": {
        "id": "4fmcmfg9yaPF",
        "colab_type": "text"
      },
      "source": [
        "#### Boş ya da NaN değerleri silme- dropna()\n",
        "<a id=\"optparam\"></a>\n",
        "\n",
        "Yukarıdaki bilgiler çerçevesinde verimizde 2 tane NaN değer bulunduğunu gözlemlemekteyiz. Bu NaN değerler veri analizi için **istenen bir durum değildir.** Bundan dolayı mümkün olduğunca **NaN değerlerden uzak durulur** ya da **yerine atama** yapılır.\n",
        "\n",
        "NaN değerler ile ilgili pandas kütüphanesinde bir çok fonksiyon vardır.Bunlardan bazılarını verimize uygulayacağız.\n",
        "İlk olarak verideki **tüm NaN değerleri silen** `dropna()` metoduna bakacağız."
      ]
    },
    {
      "cell_type": "code",
      "metadata": {
        "id": "Q5APATI6yaPG",
        "colab_type": "code",
        "colab": {}
      },
      "source": [
        "data.tail(2)"
      ],
      "execution_count": 0,
      "outputs": []
    },
    {
      "cell_type": "markdown",
      "metadata": {
        "id": "s46sYNYNyaPI",
        "colab_type": "text"
      },
      "source": [
        "Enflasyon ve İşsizlik değişkenlerimizin son iki ayındaki değerler boştur.Bunu ortadan kaldırmak için kodumuzu yazalım."
      ]
    },
    {
      "cell_type": "code",
      "metadata": {
        "id": "wy_oJE0_yaPJ",
        "colab_type": "code",
        "colab": {}
      },
      "source": [
        "data.dropna() "
      ],
      "execution_count": 0,
      "outputs": []
    },
    {
      "cell_type": "markdown",
      "metadata": {
        "id": "AIETMrvyyaPR",
        "colab_type": "text"
      },
      "source": [
        "`dropna()` komutunu uyguladığımızda son iki satırın silindiğini yani nan değerlerin ortadan kalktığını görmekteyiz.Şimdi verinin son iki satırına tekrar bakalım nan değerleri silip silmediğini kontrol edelim."
      ]
    },
    {
      "cell_type": "code",
      "metadata": {
        "id": "kurzbAfDyaPS",
        "colab_type": "code",
        "colab": {}
      },
      "source": [
        "data.tail()   "
      ],
      "execution_count": 0,
      "outputs": []
    },
    {
      "cell_type": "markdown",
      "metadata": {
        "id": "SV5FeV2QyaPU",
        "colab_type": "text"
      },
      "source": [
        "Veriye baktığımızda yukarıdaki NaN değerlerin tekrar geldiğini görmekteyiz. Bunun sebebi *pandas* bazı değişikliklerin kalıcı hale gelmesi için  ilgili komuta `inplace=True` parametreyesini vermemizi bizden istemektedir.\n",
        "\n",
        "Bu komutun olması olası bir yanlış silmelerde verinin kalıcı halde silinmesini engellemektir. \n",
        "\n",
        "> Eğer inplace komutu ile yanlışlıkla verinizden herhangi bir silme işlemi yaparsanız, değişikliği geri almak için çalışma dosyanızı tekrar başlatmanız gerekecektir.\n",
        "\n",
        "**data.dropna(inplace=True)**"
      ]
    },
    {
      "cell_type": "code",
      "metadata": {
        "id": "AzMgInNTyaPV",
        "colab_type": "code",
        "colab": {}
      },
      "source": [
        "data.dropna(how=\"any\") #herhangi bir satırda NaN değeri varsa o satırı sil demek.Kalıcı hale getirmek için \n",
        "                       #data.dropna(how=\"any\",inplace=True) şeklinde yazmamız gerekir."
      ],
      "execution_count": 0,
      "outputs": []
    },
    {
      "cell_type": "code",
      "metadata": {
        "id": "tnYEkBENyaPW",
        "colab_type": "code",
        "colab": {}
      },
      "source": [
        "data.dropna(how=\"all\")  #Tüm satır nan değerinde ise siler.Bu veride tüm satırın nan olduğu değer yok.Son iki satırda tarih\n",
        "                        #değişkeninde değer var."
      ],
      "execution_count": 0,
      "outputs": []
    },
    {
      "cell_type": "code",
      "metadata": {
        "id": "qegWQycfyaPZ",
        "colab_type": "code",
        "colab": {}
      },
      "source": [
        "data.dropna(subset=[\"issizlik\"]) #sadece issizlik oranındaki nan valuları siler.\n"
      ],
      "execution_count": 0,
      "outputs": []
    },
    {
      "cell_type": "markdown",
      "metadata": {
        "id": "PaR8Iog7yaPb",
        "colab_type": "text"
      },
      "source": [
        "#### Boş ya da nan değerlerin yerine değer atama- fillna()\n",
        "<a id=\"optparam\"></a>\n",
        "\n",
        "**NaN** ifadelerin yerine koymak istediğimiz değer varsa bu metodu kullanırız.\n",
        "\n",
        "**Koymak istediğimiz değeri** `value=` parametresiyle belirtiriz.\n",
        "\n"
      ]
    },
    {
      "cell_type": "code",
      "metadata": {
        "id": "TDxdNP_GyaPc",
        "colab_type": "code",
        "colab": {}
      },
      "source": [
        "data.fillna(value=1)  #nüfus.fillna(1) bu şekilde de kullanılabilir.\n"
      ],
      "execution_count": 0,
      "outputs": []
    },
    {
      "cell_type": "markdown",
      "metadata": {
        "id": "4dxMR7INyaPf",
        "colab_type": "text"
      },
      "source": [
        "Son iki satırdaki enflasyon ve işsizlik değişkenlerimizin value değerinde verdiğimiz gibi 1 değerini aldığını gördük.\n",
        "\n",
        "Kalıcı hale getirmek için `data.fillna(value=1,inplace=True)` komutunu vermemiz gerekmektedir. "
      ]
    },
    {
      "cell_type": "code",
      "metadata": {
        "id": "HDyUH4DeyaPf",
        "colab_type": "code",
        "colab": {}
      },
      "source": [
        "data[\"enflasyon\"].fillna(2).tail()  #sadece seçilen sütundaki nanları doldurur.Kalıcı hale getirmek için \n",
        "                                    #data[\"enflasyon\"].fillna(2,inplace=True).tail()"
      ],
      "execution_count": 0,
      "outputs": []
    },
    {
      "cell_type": "markdown",
      "metadata": {
        "id": "JtUz3-tKyaPi",
        "colab_type": "text"
      },
      "source": [
        "#### Belirli sayıda nan değerleri silme-thresh()\n",
        "<a id=\"optparam\"></a>"
      ]
    },
    {
      "cell_type": "markdown",
      "metadata": {
        "id": "eLPIWQcTyaPi",
        "colab_type": "text"
      },
      "source": [
        "`.dropna()` Metodu içerisinde bir tane bile **NaN** ifade varsa **Satır veya Sütunu** siliyordu.\n",
        "\n",
        "Biz `thresh=` parametresini kullanarak **en az bu kadar NaN** olmayan veri varsa o satırı **silme** diyebiliriz.\n",
        "\n",
        "**Örneğin:**\n",
        "\n",
        "`df.dropna(thresh=2)` komutu **df** DataFrame'inde **satırda** yer alan en az **2 tane NaN** olmayan veri varsa o satırı **silme**, diğerlerini **sil** demektedir.\n"
      ]
    },
    {
      "cell_type": "code",
      "metadata": {
        "id": "1eQnJkKhy9ID",
        "colab_type": "code",
        "colab": {}
      },
      "source": [
        "data.dropna(thresh=1) #satırda 2 tane nan olduğu için silmedi.tresh değerini 2 yapsaydım silecekti."
      ],
      "execution_count": 0,
      "outputs": []
    },
    {
      "cell_type": "markdown",
      "metadata": {
        "id": "qMp0dt23yaQJ",
        "colab_type": "text"
      },
      "source": [
        "## BONUS"
      ]
    },
    {
      "cell_type": "markdown",
      "metadata": {
        "id": "AAuOh5m5yaQK",
        "colab_type": "text"
      },
      "source": [
        "#### Sona yeni sütun ekleme\n",
        "Veri analizi yaparken değişkenler arasında yeni hesaplamalar yapmam gerekebilir. Yaptığım hesaplamaları yeni bir sütunda gösterebilirim.\n"
      ]
    },
    {
      "cell_type": "code",
      "metadata": {
        "id": "3gCn_NehyaQL",
        "colab_type": "code",
        "colab": {}
      },
      "source": [
        "data[\"yeni_veri\"] = data.enflasyon-data.issizlik #yeni sütunda enflasyondan işsizliği çıkardım."
      ],
      "execution_count": 0,
      "outputs": []
    },
    {
      "cell_type": "code",
      "metadata": {
        "id": "FhkewpYnyaQO",
        "colab_type": "code",
        "colab": {}
      },
      "source": [
        "data.head()"
      ],
      "execution_count": 0,
      "outputs": []
    },
    {
      "cell_type": "markdown",
      "metadata": {
        "id": "scAc6MwKyaQQ",
        "colab_type": "text"
      },
      "source": [
        "#### Aralara yeni sütun ekleme- insert()"
      ]
    },
    {
      "cell_type": "code",
      "metadata": {
        "id": "i_6sLroFyaQR",
        "colab_type": "code",
        "colab": {}
      },
      "source": [
        "data.insert(2,column=\"yeni_hesaplama\",value=data.enflasyon+data.enflasyon) \n",
        "#yeni hesaplamada enflasyon ve işsizliği topladım.insert() metodu ile ekleyeceğım yeni yeri yani 2'yi yazdım.\n",
        "#0 tarih 1 enflasyon ve yazdığım 2 de yeni_hesaplama oldu"
      ],
      "execution_count": 0,
      "outputs": []
    },
    {
      "cell_type": "code",
      "metadata": {
        "id": "eyk-XAo0yaQU",
        "colab_type": "code",
        "colab": {}
      },
      "source": [
        "data.head()"
      ],
      "execution_count": 0,
      "outputs": []
    },
    {
      "cell_type": "markdown",
      "metadata": {
        "id": "3Kek_YQPyaQX",
        "colab_type": "text"
      },
      "source": [
        "#### NAN değerleri bulma- isnull()\n",
        "Verideki nan değerleri true, nan olmayan değerleri ise false döndürür."
      ]
    },
    {
      "cell_type": "code",
      "metadata": {
        "id": "9VQY28ouyaQY",
        "colab_type": "code",
        "colab": {}
      },
      "source": [
        "data.isnull().tail(5) #son 5 değere baktığımızda nan değerleri rahatlıkla görebiliriz."
      ],
      "execution_count": 0,
      "outputs": []
    },
    {
      "cell_type": "code",
      "metadata": {
        "id": "TAhoGNCcyaQb",
        "colab_type": "code",
        "colab": {}
      },
      "source": [
        "#sütundaki toplam NaN değerleri verir.Hangi sütunda kaç tane nan değer olduğunu gösterir.\n",
        "data.isnull().sum()"
      ],
      "execution_count": 0,
      "outputs": []
    },
    {
      "cell_type": "markdown",
      "metadata": {
        "id": "Y5eWa1EKyaQe",
        "colab_type": "text"
      },
      "source": [
        "#### rank()\n",
        "Değişkenleri büyükten küçüğe ya da küçükten büyüğe sıralamamı sağlar. Burada dikkat edilmesi gereken nokta veride nan değerin olmaması ve rank değerinin int tipinde olmasıdır."
      ]
    },
    {
      "cell_type": "code",
      "metadata": {
        "id": "S8rxViZdyaQe",
        "colab_type": "code",
        "colab": {}
      },
      "source": [
        "data.dropna(how=\"any\",inplace=True) #nan değerleri kalıcı hale getirmem gerekiyor."
      ],
      "execution_count": 0,
      "outputs": []
    },
    {
      "cell_type": "code",
      "metadata": {
        "id": "i7FVsKo8yaQg",
        "colab_type": "code",
        "colab": {}
      },
      "source": [
        "#yeni bir sütun açarak, oluşturduğum ranki o sütunun içine yazdım.\n",
        "data[\"issizlik_sıralama\"]=data[\"issizlik\"].rank().astype(\"int\")"
      ],
      "execution_count": 0,
      "outputs": []
    },
    {
      "cell_type": "code",
      "metadata": {
        "id": "XqSMjhIZyaQi",
        "colab_type": "code",
        "colab": {}
      },
      "source": [
        "data.tail(10)"
      ],
      "execution_count": 0,
      "outputs": []
    },
    {
      "cell_type": "markdown",
      "metadata": {
        "id": "hh80Nq6oyaQl",
        "colab_type": "text"
      },
      "source": [
        "#### isin()\n",
        "Veride filtreleme işlemi yapar."
      ]
    },
    {
      "cell_type": "code",
      "metadata": {
        "id": "4ohmFSI_yaQm",
        "colab_type": "code",
        "colab": {}
      },
      "source": [
        "#ilk önce hangi sütunda olduğunu belrtiyorum,sonrasında isin parametresinin içine hangi değeri istediğimi yazıyorum.\n",
        "m=data[\"Tarih\"].isin([\"2019-02\"]) "
      ],
      "execution_count": 0,
      "outputs": []
    },
    {
      "cell_type": "code",
      "metadata": {
        "id": "qyactQNLyaQp",
        "colab_type": "code",
        "colab": {}
      },
      "source": [
        "#direk olarak m yazıp çağırdığınızda true,false döner.Aşağıdaki şekilde çağırdığınızda istediğiniz filtreleme yapılmış olur.\n",
        "data[m]"
      ],
      "execution_count": 0,
      "outputs": []
    },
    {
      "cell_type": "markdown",
      "metadata": {
        "id": "EL6cocAlyaQr",
        "colab_type": "text"
      },
      "source": [
        "#### betweeen()\n",
        "\n",
        "Belirli aralıktaki değerleri filtrelemeye yarar. Enflasyon oranının 2 ve 5 arasında olduğu değerleri filtreleyelim. Burada 2 dahil, 5 dahil değildir."
      ]
    },
    {
      "cell_type": "code",
      "metadata": {
        "id": "fLpvecqOyaQr",
        "colab_type": "code",
        "colab": {}
      },
      "source": [
        "dusukenflasyon=data[\"enflasyon\"].between(2,5)"
      ],
      "execution_count": 0,
      "outputs": []
    },
    {
      "cell_type": "code",
      "metadata": {
        "id": "JOIW-YzbyaQu",
        "colab_type": "code",
        "colab": {}
      },
      "source": [
        "data[dusukenflasyon]"
      ],
      "execution_count": 0,
      "outputs": []
    },
    {
      "cell_type": "markdown",
      "metadata": {
        "id": "amKyNjuAyaQw",
        "colab_type": "text"
      },
      "source": [
        "#### nunique() Metodu\n",
        "\n",
        "Dataframe içerisinde kaç tane eşsiz değer olduğunun sayısını verir."
      ]
    },
    {
      "cell_type": "code",
      "metadata": {
        "id": "1M-b0l4byaQx",
        "colab_type": "code",
        "colab": {}
      },
      "source": [
        "data[\"issizlik\"].unique()"
      ],
      "execution_count": 0,
      "outputs": []
    },
    {
      "cell_type": "markdown",
      "metadata": {
        "id": "zPikJk47yaQ0",
        "colab_type": "text"
      },
      "source": [
        "#### rename()\n",
        "Excel,csv,html vb gibi yerlerden dosya okuturken değişken isimleri farklı,anlamsız ya da karışık olabiliyor.Bunun için bu değişkenleri tekrardan isimlendirmemiz analizimiz anlaşılırlığı açısından önemlidir.\n",
        "\n",
        "**data.rename({\"eski_adi\": \"yeni_adi\", \"eski_ismi\": \"yeni_ismi\"}, axis=\"columns\", inplace=True)**\n",
        "\n",
        "Genel olarak bu şablon izlenebilir. Burada axis sütunu belirtmemizi, inplace ise kalıcı hale gelmesini sağlamaktadır."
      ]
    },
    {
      "cell_type": "code",
      "metadata": {
        "id": "VKIIErkAyaQ1",
        "colab_type": "code",
        "colab": {}
      },
      "source": [
        "data.rename({\"enflasyon\": \"yenienflasyon\", \"issizlik\": \"yeniissizlik\"}, axis=\"columns\", inplace=True)\n",
        "data.head()"
      ],
      "execution_count": 0,
      "outputs": []
    }
  ]
}