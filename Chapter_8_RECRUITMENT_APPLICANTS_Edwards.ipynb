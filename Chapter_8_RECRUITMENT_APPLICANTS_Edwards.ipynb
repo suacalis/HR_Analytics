{
  "nbformat": 4,
  "nbformat_minor": 0,
  "metadata": {
    "colab": {
      "name": "Chapter 8 RECRUITMENT APPLICANTS Edwards.ipynb",
      "provenance": [],
      "collapsed_sections": [],
      "authorship_tag": "ABX9TyORAIwXLCCY0LNDOJJXrRup",
      "include_colab_link": true
    },
    "kernelspec": {
      "name": "python3",
      "display_name": "Python 3"
    },
    "language_info": {
      "name": "python"
    }
  },
  "cells": [
    {
      "cell_type": "markdown",
      "metadata": {
        "id": "view-in-github",
        "colab_type": "text"
      },
      "source": [
        "<a href=\"https://colab.research.google.com/github/suacalis/HR_Analytics/blob/master/Chapter_8_RECRUITMENT_APPLICANTS_Edwards.ipynb\" target=\"_parent\"><img src=\"https://colab.research.google.com/assets/colab-badge.svg\" alt=\"Open In Colab\"/></a>"
      ]
    },
    {
      "cell_type": "code",
      "metadata": {
        "colab": {
          "base_uri": "https://localhost:8080/"
        },
        "id": "Os4sNLjWngZF",
        "outputId": "3210661a-3199-4ea9-b9a7-0bb155035032"
      },
      "source": [
        "!pip install pyreadstat"
      ],
      "execution_count": null,
      "outputs": [
        {
          "output_type": "stream",
          "name": "stdout",
          "text": [
            "Collecting pyreadstat\n",
            "  Downloading pyreadstat-1.1.3-cp37-cp37m-manylinux_2_17_x86_64.manylinux2014_x86_64.whl (2.4 MB)\n",
            "\u001b[K     |████████████████████████████████| 2.4 MB 5.1 MB/s \n",
            "\u001b[?25hRequirement already satisfied: pandas>0.24.0 in /usr/local/lib/python3.7/dist-packages (from pyreadstat) (1.1.5)\n",
            "Requirement already satisfied: pytz>=2017.2 in /usr/local/lib/python3.7/dist-packages (from pandas>0.24.0->pyreadstat) (2018.9)\n",
            "Requirement already satisfied: numpy>=1.15.4 in /usr/local/lib/python3.7/dist-packages (from pandas>0.24.0->pyreadstat) (1.19.5)\n",
            "Requirement already satisfied: python-dateutil>=2.7.3 in /usr/local/lib/python3.7/dist-packages (from pandas>0.24.0->pyreadstat) (2.8.2)\n",
            "Requirement already satisfied: six>=1.5 in /usr/local/lib/python3.7/dist-packages (from python-dateutil>=2.7.3->pandas>0.24.0->pyreadstat) (1.15.0)\n",
            "Installing collected packages: pyreadstat\n",
            "Successfully installed pyreadstat-1.1.3\n"
          ]
        }
      ]
    },
    {
      "cell_type": "code",
      "metadata": {
        "id": "YEvPqabAxfK2"
      },
      "source": [
        "import pyreadstat"
      ],
      "execution_count": null,
      "outputs": []
    },
    {
      "cell_type": "code",
      "metadata": {
        "id": "kKBqqYtWkbnl"
      },
      "source": [
        "import pandas as pd\n",
        "import numpy as np\n",
        "import matplotlib.pyplot as plt\n",
        "import seaborn as sns\n",
        "%matplotlib inline"
      ],
      "execution_count": 1,
      "outputs": []
    },
    {
      "cell_type": "code",
      "metadata": {
        "colab": {
          "base_uri": "https://localhost:8080/"
        },
        "id": "ygpUWKpKvKQU",
        "outputId": "23704014-68f8-4b07-d94d-ae9ef96f5c2c"
      },
      "source": [
        "from google.colab import drive\n",
        "drive.mount('/content/drive')"
      ],
      "execution_count": 2,
      "outputs": [
        {
          "output_type": "stream",
          "name": "stdout",
          "text": [
            "Mounted at /content/drive\n"
          ]
        }
      ]
    },
    {
      "cell_type": "markdown",
      "metadata": {
        "id": "5QO8VxnJ0-Ya"
      },
      "source": [
        "ApplicantCode: applicant code, ranging from 1 to 280.\n",
        "\n",
        "Gender: 1 = male | 2 = female\n",
        "\n",
        "BAMEyn: Black, Asian or Minority Ethnic, 1 = yes | 2 = no\n",
        "\n",
        "ShortlistedNY: 0 = applicant rejected | 1 = shorlisted\n",
        "\n",
        "Interviewed: 0 = applicant not interviewed | 1 = interviewed\n",
        "\n",
        "FemaleONpanel: 1 = male only panel | 2 = female interviewer included on the interview panel\n",
        "\n",
        "OfferNY: 1 = offer made to the applicant | 0 = not offered\n",
        "\n",
        "AcceptNY: 1 = applicant accepted | 0 = declined\n",
        "\n",
        "JoinYN: 1 = applicant joined | 0 = not joined"
      ]
    },
    {
      "cell_type": "code",
      "metadata": {
        "id": "6gGK1uBKwx8u"
      },
      "source": [
        "df=pd.read_excel('/content/drive/MyDrive/HR Analytics/Edwards Predictive HR analytics/Edwards Predictive Hr Analytics/SPSS and Excel Datasets (9780749484446)/Chapter 8 RECRUITMENT APPLICANTS.xls')"
      ],
      "execution_count": 3,
      "outputs": []
    },
    {
      "cell_type": "code",
      "metadata": {
        "colab": {
          "base_uri": "https://localhost:8080/",
          "height": 200
        },
        "id": "9tCvCoCDw4ut",
        "outputId": "ae653a4d-d2bb-4c4e-8f5d-cb926ccb56f2"
      },
      "source": [
        "df.head()"
      ],
      "execution_count": 4,
      "outputs": [
        {
          "output_type": "execute_result",
          "data": {
            "text/html": [
              "<div>\n",
              "<style scoped>\n",
              "    .dataframe tbody tr th:only-of-type {\n",
              "        vertical-align: middle;\n",
              "    }\n",
              "\n",
              "    .dataframe tbody tr th {\n",
              "        vertical-align: top;\n",
              "    }\n",
              "\n",
              "    .dataframe thead th {\n",
              "        text-align: right;\n",
              "    }\n",
              "</style>\n",
              "<table border=\"1\" class=\"dataframe\">\n",
              "  <thead>\n",
              "    <tr style=\"text-align: right;\">\n",
              "      <th></th>\n",
              "      <th>ApplicantCode</th>\n",
              "      <th>Gender</th>\n",
              "      <th>BAMEyn</th>\n",
              "      <th>ShortlistedNY</th>\n",
              "      <th>Interviewed</th>\n",
              "      <th>FemaleONpanel</th>\n",
              "      <th>OfferNY</th>\n",
              "      <th>AcceptNY</th>\n",
              "      <th>JoinYN</th>\n",
              "    </tr>\n",
              "  </thead>\n",
              "  <tbody>\n",
              "    <tr>\n",
              "      <th>0</th>\n",
              "      <td>1</td>\n",
              "      <td>1</td>\n",
              "      <td>2</td>\n",
              "      <td>1</td>\n",
              "      <td>1</td>\n",
              "      <td>1.0</td>\n",
              "      <td>1.0</td>\n",
              "      <td>1.0</td>\n",
              "      <td>1.0</td>\n",
              "    </tr>\n",
              "    <tr>\n",
              "      <th>1</th>\n",
              "      <td>2</td>\n",
              "      <td>1</td>\n",
              "      <td>2</td>\n",
              "      <td>1</td>\n",
              "      <td>1</td>\n",
              "      <td>1.0</td>\n",
              "      <td>1.0</td>\n",
              "      <td>1.0</td>\n",
              "      <td>1.0</td>\n",
              "    </tr>\n",
              "    <tr>\n",
              "      <th>2</th>\n",
              "      <td>3</td>\n",
              "      <td>1</td>\n",
              "      <td>2</td>\n",
              "      <td>1</td>\n",
              "      <td>1</td>\n",
              "      <td>1.0</td>\n",
              "      <td>1.0</td>\n",
              "      <td>1.0</td>\n",
              "      <td>1.0</td>\n",
              "    </tr>\n",
              "    <tr>\n",
              "      <th>3</th>\n",
              "      <td>4</td>\n",
              "      <td>1</td>\n",
              "      <td>2</td>\n",
              "      <td>1</td>\n",
              "      <td>1</td>\n",
              "      <td>2.0</td>\n",
              "      <td>1.0</td>\n",
              "      <td>1.0</td>\n",
              "      <td>1.0</td>\n",
              "    </tr>\n",
              "    <tr>\n",
              "      <th>4</th>\n",
              "      <td>5</td>\n",
              "      <td>1</td>\n",
              "      <td>2</td>\n",
              "      <td>1</td>\n",
              "      <td>1</td>\n",
              "      <td>2.0</td>\n",
              "      <td>0.0</td>\n",
              "      <td>NaN</td>\n",
              "      <td>NaN</td>\n",
              "    </tr>\n",
              "  </tbody>\n",
              "</table>\n",
              "</div>"
            ],
            "text/plain": [
              "   ApplicantCode  Gender  BAMEyn  ...  OfferNY  AcceptNY  JoinYN\n",
              "0              1       1       2  ...      1.0       1.0     1.0\n",
              "1              2       1       2  ...      1.0       1.0     1.0\n",
              "2              3       1       2  ...      1.0       1.0     1.0\n",
              "3              4       1       2  ...      1.0       1.0     1.0\n",
              "4              5       1       2  ...      0.0       NaN     NaN\n",
              "\n",
              "[5 rows x 9 columns]"
            ]
          },
          "metadata": {},
          "execution_count": 4
        }
      ]
    },
    {
      "cell_type": "code",
      "metadata": {
        "colab": {
          "base_uri": "https://localhost:8080/",
          "height": 200
        },
        "id": "SU08JLV6yEHD",
        "outputId": "b1c4cc0a-96aa-4542-a92d-0cb22bff1481"
      },
      "source": [
        "df.tail()"
      ],
      "execution_count": 5,
      "outputs": [
        {
          "output_type": "execute_result",
          "data": {
            "text/html": [
              "<div>\n",
              "<style scoped>\n",
              "    .dataframe tbody tr th:only-of-type {\n",
              "        vertical-align: middle;\n",
              "    }\n",
              "\n",
              "    .dataframe tbody tr th {\n",
              "        vertical-align: top;\n",
              "    }\n",
              "\n",
              "    .dataframe thead th {\n",
              "        text-align: right;\n",
              "    }\n",
              "</style>\n",
              "<table border=\"1\" class=\"dataframe\">\n",
              "  <thead>\n",
              "    <tr style=\"text-align: right;\">\n",
              "      <th></th>\n",
              "      <th>ApplicantCode</th>\n",
              "      <th>Gender</th>\n",
              "      <th>BAMEyn</th>\n",
              "      <th>ShortlistedNY</th>\n",
              "      <th>Interviewed</th>\n",
              "      <th>FemaleONpanel</th>\n",
              "      <th>OfferNY</th>\n",
              "      <th>AcceptNY</th>\n",
              "      <th>JoinYN</th>\n",
              "    </tr>\n",
              "  </thead>\n",
              "  <tbody>\n",
              "    <tr>\n",
              "      <th>275</th>\n",
              "      <td>276</td>\n",
              "      <td>2</td>\n",
              "      <td>1</td>\n",
              "      <td>0</td>\n",
              "      <td>0</td>\n",
              "      <td>NaN</td>\n",
              "      <td>NaN</td>\n",
              "      <td>NaN</td>\n",
              "      <td>NaN</td>\n",
              "    </tr>\n",
              "    <tr>\n",
              "      <th>276</th>\n",
              "      <td>277</td>\n",
              "      <td>2</td>\n",
              "      <td>1</td>\n",
              "      <td>0</td>\n",
              "      <td>0</td>\n",
              "      <td>NaN</td>\n",
              "      <td>NaN</td>\n",
              "      <td>NaN</td>\n",
              "      <td>NaN</td>\n",
              "    </tr>\n",
              "    <tr>\n",
              "      <th>277</th>\n",
              "      <td>278</td>\n",
              "      <td>2</td>\n",
              "      <td>1</td>\n",
              "      <td>0</td>\n",
              "      <td>0</td>\n",
              "      <td>NaN</td>\n",
              "      <td>NaN</td>\n",
              "      <td>NaN</td>\n",
              "      <td>NaN</td>\n",
              "    </tr>\n",
              "    <tr>\n",
              "      <th>278</th>\n",
              "      <td>279</td>\n",
              "      <td>2</td>\n",
              "      <td>2</td>\n",
              "      <td>0</td>\n",
              "      <td>0</td>\n",
              "      <td>NaN</td>\n",
              "      <td>NaN</td>\n",
              "      <td>NaN</td>\n",
              "      <td>NaN</td>\n",
              "    </tr>\n",
              "    <tr>\n",
              "      <th>279</th>\n",
              "      <td>280</td>\n",
              "      <td>2</td>\n",
              "      <td>2</td>\n",
              "      <td>0</td>\n",
              "      <td>0</td>\n",
              "      <td>NaN</td>\n",
              "      <td>NaN</td>\n",
              "      <td>NaN</td>\n",
              "      <td>NaN</td>\n",
              "    </tr>\n",
              "  </tbody>\n",
              "</table>\n",
              "</div>"
            ],
            "text/plain": [
              "     ApplicantCode  Gender  BAMEyn  ...  OfferNY  AcceptNY  JoinYN\n",
              "275            276       2       1  ...      NaN       NaN     NaN\n",
              "276            277       2       1  ...      NaN       NaN     NaN\n",
              "277            278       2       1  ...      NaN       NaN     NaN\n",
              "278            279       2       2  ...      NaN       NaN     NaN\n",
              "279            280       2       2  ...      NaN       NaN     NaN\n",
              "\n",
              "[5 rows x 9 columns]"
            ]
          },
          "metadata": {},
          "execution_count": 5
        }
      ]
    },
    {
      "cell_type": "code",
      "metadata": {
        "colab": {
          "base_uri": "https://localhost:8080/"
        },
        "id": "ITT4ZMuVyKBo",
        "outputId": "557c5efc-b02a-405b-da1b-1982782d61ac"
      },
      "source": [
        "df.info()"
      ],
      "execution_count": 6,
      "outputs": [
        {
          "output_type": "stream",
          "name": "stdout",
          "text": [
            "<class 'pandas.core.frame.DataFrame'>\n",
            "RangeIndex: 280 entries, 0 to 279\n",
            "Data columns (total 9 columns):\n",
            " #   Column         Non-Null Count  Dtype  \n",
            "---  ------         --------------  -----  \n",
            " 0   ApplicantCode  280 non-null    int64  \n",
            " 1   Gender         280 non-null    int64  \n",
            " 2   BAMEyn         280 non-null    int64  \n",
            " 3   ShortlistedNY  280 non-null    int64  \n",
            " 4   Interviewed    280 non-null    int64  \n",
            " 5   FemaleONpanel  55 non-null     float64\n",
            " 6   OfferNY        55 non-null     float64\n",
            " 7   AcceptNY       28 non-null     float64\n",
            " 8   JoinYN         28 non-null     float64\n",
            "dtypes: float64(4), int64(5)\n",
            "memory usage: 19.8 KB\n"
          ]
        }
      ]
    },
    {
      "cell_type": "code",
      "metadata": {
        "id": "aRxKAmMWkfGY"
      },
      "source": [
        "df2=pd.read_spss('/content/drive/MyDrive/HR Analytics/Edwards Predictive HR analytics/Chapter 8 RECRUITMENT APPLICANTS.sav')"
      ],
      "execution_count": null,
      "outputs": []
    },
    {
      "cell_type": "code",
      "metadata": {
        "colab": {
          "base_uri": "https://localhost:8080/",
          "height": 206
        },
        "id": "zEODaMcRkumE",
        "outputId": "45debc47-206d-4b95-b472-a88115c4cfb8"
      },
      "source": [
        "df2.head()"
      ],
      "execution_count": null,
      "outputs": [
        {
          "output_type": "execute_result",
          "data": {
            "text/html": [
              "<div>\n",
              "<style scoped>\n",
              "    .dataframe tbody tr th:only-of-type {\n",
              "        vertical-align: middle;\n",
              "    }\n",
              "\n",
              "    .dataframe tbody tr th {\n",
              "        vertical-align: top;\n",
              "    }\n",
              "\n",
              "    .dataframe thead th {\n",
              "        text-align: right;\n",
              "    }\n",
              "</style>\n",
              "<table border=\"1\" class=\"dataframe\">\n",
              "  <thead>\n",
              "    <tr style=\"text-align: right;\">\n",
              "      <th></th>\n",
              "      <th>ApplicantCode</th>\n",
              "      <th>Gender</th>\n",
              "      <th>BAMEyn</th>\n",
              "      <th>ShortlistedNY</th>\n",
              "      <th>Interviewed</th>\n",
              "      <th>FemaleONpanel</th>\n",
              "      <th>OfferNY</th>\n",
              "      <th>AcceptNY</th>\n",
              "      <th>JoinYN</th>\n",
              "    </tr>\n",
              "  </thead>\n",
              "  <tbody>\n",
              "    <tr>\n",
              "      <th>0</th>\n",
              "      <td>1.0</td>\n",
              "      <td>Male</td>\n",
              "      <td>BAME No</td>\n",
              "      <td>Shortlisted</td>\n",
              "      <td>Interviewed</td>\n",
              "      <td>Male only</td>\n",
              "      <td>Offer Made</td>\n",
              "      <td>Accepted</td>\n",
              "      <td>Joined</td>\n",
              "    </tr>\n",
              "    <tr>\n",
              "      <th>1</th>\n",
              "      <td>2.0</td>\n",
              "      <td>Male</td>\n",
              "      <td>BAME No</td>\n",
              "      <td>Shortlisted</td>\n",
              "      <td>Interviewed</td>\n",
              "      <td>Male only</td>\n",
              "      <td>Offer Made</td>\n",
              "      <td>Accepted</td>\n",
              "      <td>Joined</td>\n",
              "    </tr>\n",
              "    <tr>\n",
              "      <th>2</th>\n",
              "      <td>3.0</td>\n",
              "      <td>Male</td>\n",
              "      <td>BAME No</td>\n",
              "      <td>Shortlisted</td>\n",
              "      <td>Interviewed</td>\n",
              "      <td>Male only</td>\n",
              "      <td>Offer Made</td>\n",
              "      <td>Accepted</td>\n",
              "      <td>Joined</td>\n",
              "    </tr>\n",
              "    <tr>\n",
              "      <th>3</th>\n",
              "      <td>4.0</td>\n",
              "      <td>Male</td>\n",
              "      <td>BAME No</td>\n",
              "      <td>Shortlisted</td>\n",
              "      <td>Interviewed</td>\n",
              "      <td>Female panel member</td>\n",
              "      <td>Offer Made</td>\n",
              "      <td>Accepted</td>\n",
              "      <td>Joined</td>\n",
              "    </tr>\n",
              "    <tr>\n",
              "      <th>4</th>\n",
              "      <td>5.0</td>\n",
              "      <td>Male</td>\n",
              "      <td>BAME No</td>\n",
              "      <td>Shortlisted</td>\n",
              "      <td>Interviewed</td>\n",
              "      <td>Female panel member</td>\n",
              "      <td>Offer not made</td>\n",
              "      <td>NaN</td>\n",
              "      <td>NaN</td>\n",
              "    </tr>\n",
              "  </tbody>\n",
              "</table>\n",
              "</div>"
            ],
            "text/plain": [
              "   ApplicantCode Gender   BAMEyn  ...         OfferNY  AcceptNY  JoinYN\n",
              "0            1.0   Male  BAME No  ...      Offer Made  Accepted  Joined\n",
              "1            2.0   Male  BAME No  ...      Offer Made  Accepted  Joined\n",
              "2            3.0   Male  BAME No  ...      Offer Made  Accepted  Joined\n",
              "3            4.0   Male  BAME No  ...      Offer Made  Accepted  Joined\n",
              "4            5.0   Male  BAME No  ...  Offer not made       NaN     NaN\n",
              "\n",
              "[5 rows x 9 columns]"
            ]
          },
          "metadata": {},
          "execution_count": 8
        }
      ]
    },
    {
      "cell_type": "code",
      "metadata": {
        "colab": {
          "base_uri": "https://localhost:8080/"
        },
        "id": "LQ_azl4Qk2CU",
        "outputId": "f2d0ff62-7219-4a6a-9f8a-724daa50efac"
      },
      "source": [
        "df.isnull().sum()"
      ],
      "execution_count": 7,
      "outputs": [
        {
          "output_type": "execute_result",
          "data": {
            "text/plain": [
              "ApplicantCode      0\n",
              "Gender             0\n",
              "BAMEyn             0\n",
              "ShortlistedNY      0\n",
              "Interviewed        0\n",
              "FemaleONpanel    225\n",
              "OfferNY          225\n",
              "AcceptNY         252\n",
              "JoinYN           252\n",
              "dtype: int64"
            ]
          },
          "metadata": {},
          "execution_count": 7
        }
      ]
    },
    {
      "cell_type": "code",
      "metadata": {
        "colab": {
          "base_uri": "https://localhost:8080/"
        },
        "id": "rpXSHaATzIdn",
        "outputId": "2940a633-c8ad-401b-ab99-14951b326e9d"
      },
      "source": [
        "df.dtypes"
      ],
      "execution_count": 8,
      "outputs": [
        {
          "output_type": "execute_result",
          "data": {
            "text/plain": [
              "ApplicantCode      int64\n",
              "Gender             int64\n",
              "BAMEyn             int64\n",
              "ShortlistedNY      int64\n",
              "Interviewed        int64\n",
              "FemaleONpanel    float64\n",
              "OfferNY          float64\n",
              "AcceptNY         float64\n",
              "JoinYN           float64\n",
              "dtype: object"
            ]
          },
          "metadata": {},
          "execution_count": 8
        }
      ]
    },
    {
      "cell_type": "code",
      "metadata": {
        "colab": {
          "base_uri": "https://localhost:8080/"
        },
        "id": "0DSODfDWk8DL",
        "outputId": "fa01fef7-36b2-4d30-d0d1-62f2a85a2a3e"
      },
      "source": [
        "#1= Male, 2= Female\n",
        "print(df.Gender.value_counts(dropna=False))\n",
        "print(df.Gender.value_counts(normalize=True)*100)"
      ],
      "execution_count": 9,
      "outputs": [
        {
          "output_type": "stream",
          "name": "stdout",
          "text": [
            "2    202\n",
            "1     78\n",
            "Name: Gender, dtype: int64\n",
            "2    72.142857\n",
            "1    27.857143\n",
            "Name: Gender, dtype: float64\n"
          ]
        }
      ]
    },
    {
      "cell_type": "code",
      "metadata": {
        "colab": {
          "base_uri": "https://localhost:8080/"
        },
        "id": "kIwRL5Knl-tq",
        "outputId": "71407ba4-433b-4a1d-a3f3-83a84147bf4b"
      },
      "source": [
        "#1= Black, Asian or Minority Ethnic, 2= No\n",
        "print(df.BAMEyn.value_counts(dropna=False))\n",
        "print(df.BAMEyn.value_counts(normalize=True)*100)"
      ],
      "execution_count": 10,
      "outputs": [
        {
          "output_type": "stream",
          "name": "stdout",
          "text": [
            "2    159\n",
            "1    121\n",
            "Name: BAMEyn, dtype: int64\n",
            "2    56.785714\n",
            "1    43.214286\n",
            "Name: BAMEyn, dtype: float64\n"
          ]
        }
      ]
    },
    {
      "cell_type": "code",
      "metadata": {
        "colab": {
          "base_uri": "https://localhost:8080/"
        },
        "id": "uX0TvhrrmbV3",
        "outputId": "cde0131a-ba5d-4de3-c50d-a239cb475c18"
      },
      "source": [
        "#ShortlistedNY: 0 = applicant rejected | 1 = shorlisted\n",
        "print(df.ShortlistedNY.value_counts(dropna=False))\n",
        "print(df.ShortlistedNY.value_counts(normalize=True)*100)\n"
      ],
      "execution_count": 11,
      "outputs": [
        {
          "output_type": "stream",
          "name": "stdout",
          "text": [
            "0    192\n",
            "1     88\n",
            "Name: ShortlistedNY, dtype: int64\n",
            "0    68.571429\n",
            "1    31.428571\n",
            "Name: ShortlistedNY, dtype: float64\n"
          ]
        }
      ]
    },
    {
      "cell_type": "code",
      "metadata": {
        "colab": {
          "base_uri": "https://localhost:8080/"
        },
        "id": "bJvX9agXlrhE",
        "outputId": "35801446-853e-43a2-b1d2-311199f580e5"
      },
      "source": [
        "#Interviewed: 0 = applicant not interviewed | 1 = interviewed\n",
        "print(df.Interviewed.value_counts(dropna=False))\n",
        "print(df.Interviewed.value_counts(normalize=True)*100)"
      ],
      "execution_count": null,
      "outputs": [
        {
          "output_type": "stream",
          "name": "stdout",
          "text": [
            "0    225\n",
            "1     55\n",
            "Name: Interviewed, dtype: int64\n",
            "0    80.357143\n",
            "1    19.642857\n",
            "Name: Interviewed, dtype: float64\n"
          ]
        }
      ]
    },
    {
      "cell_type": "code",
      "metadata": {
        "colab": {
          "base_uri": "https://localhost:8080/"
        },
        "id": "U2wvKNQ0mt69",
        "outputId": "485075e9-220e-4148-8c3c-382763a9a8c5"
      },
      "source": [
        "#FemaleONpanel: 1 = male only panel | 2 = female interviewer included on the interview panel\n",
        "print(df.FemaleONpanel.value_counts(dropna=False))\n",
        "print(df.FemaleONpanel.value_counts(dropna=False, normalize=True)*100)"
      ],
      "execution_count": null,
      "outputs": [
        {
          "output_type": "stream",
          "name": "stdout",
          "text": [
            "NaN    225\n",
            "1.0     33\n",
            "2.0     22\n",
            "Name: FemaleONpanel, dtype: int64\n",
            "NaN    80.357143\n",
            "1.0    11.785714\n",
            "2.0     7.857143\n",
            "Name: FemaleONpanel, dtype: float64\n"
          ]
        }
      ]
    },
    {
      "cell_type": "code",
      "metadata": {
        "colab": {
          "base_uri": "https://localhost:8080/"
        },
        "id": "pRfRpiZ6QxDJ",
        "outputId": "55055989-2adf-45d9-9519-ddcd8883327d"
      },
      "source": [
        "#FemaleONpanel: 1 = male only panel | 2 = female interviewer included on the interview panel\n",
        "print(df.FemaleONpanel.value_counts())\n",
        "print(df.FemaleONpanel.value_counts(normalize=True)*100)"
      ],
      "execution_count": 12,
      "outputs": [
        {
          "output_type": "stream",
          "name": "stdout",
          "text": [
            "1.0    33\n",
            "2.0    22\n",
            "Name: FemaleONpanel, dtype: int64\n",
            "1.0    60.0\n",
            "2.0    40.0\n",
            "Name: FemaleONpanel, dtype: float64\n"
          ]
        }
      ]
    },
    {
      "cell_type": "code",
      "metadata": {
        "colab": {
          "base_uri": "https://localhost:8080/"
        },
        "id": "oJivI46Qm3Yq",
        "outputId": "1c666f52-0afe-4d36-a7f1-9fd6c5fecdb1"
      },
      "source": [
        "#OfferNY: 1 = offer made to the applicant | 0 = not offered\n",
        "print(df.OfferNY.value_counts(dropna=False))\n",
        "print(df.OfferNY.value_counts(dropna=False, normalize=True)*100)\n"
      ],
      "execution_count": 13,
      "outputs": [
        {
          "output_type": "stream",
          "name": "stdout",
          "text": [
            "NaN    225\n",
            "1.0     28\n",
            "0.0     27\n",
            "Name: OfferNY, dtype: int64\n",
            "NaN    80.357143\n",
            "1.0    10.000000\n",
            "0.0     9.642857\n",
            "Name: OfferNY, dtype: float64\n"
          ]
        }
      ]
    },
    {
      "cell_type": "code",
      "metadata": {
        "colab": {
          "base_uri": "https://localhost:8080/"
        },
        "id": "mxAgfyFEm4QI",
        "outputId": "48426e6d-a7ab-444c-e074-54aef89d7e41"
      },
      "source": [
        "#AcceptNY: 1 = applicant accepted | 0 = declined\n",
        "print(df.AcceptNY.value_counts(dropna=False))\n",
        "print(df.AcceptNY.value_counts(dropna=False, normalize=True)*100)"
      ],
      "execution_count": 14,
      "outputs": [
        {
          "output_type": "stream",
          "name": "stdout",
          "text": [
            "NaN    252\n",
            "1.0     18\n",
            "0.0     10\n",
            "Name: AcceptNY, dtype: int64\n",
            "NaN    90.000000\n",
            "1.0     6.428571\n",
            "0.0     3.571429\n",
            "Name: AcceptNY, dtype: float64\n"
          ]
        }
      ]
    },
    {
      "cell_type": "code",
      "metadata": {
        "colab": {
          "base_uri": "https://localhost:8080/"
        },
        "id": "cKCQCdKIm4VL",
        "outputId": "f2b04635-b2e9-4d69-ac3e-316a6cda6497"
      },
      "source": [
        "#JoinYN: 1 = applicant joined | 0 = not joined\n",
        "print(df.JoinYN.value_counts(dropna=False))\n",
        "print(df.JoinYN.value_counts(dropna=False, normalize=True)*100)"
      ],
      "execution_count": 15,
      "outputs": [
        {
          "output_type": "stream",
          "name": "stdout",
          "text": [
            "NaN    252\n",
            "1.0     18\n",
            "0.0     10\n",
            "Name: JoinYN, dtype: int64\n",
            "NaN    90.000000\n",
            "1.0     6.428571\n",
            "0.0     3.571429\n",
            "Name: JoinYN, dtype: float64\n"
          ]
        }
      ]
    },
    {
      "cell_type": "code",
      "metadata": {
        "colab": {
          "base_uri": "https://localhost:8080/"
        },
        "id": "ZkNjrOcg_gLA",
        "outputId": "39d6b913-7c37-4fa0-e058-ddb51a39263d"
      },
      "source": [
        "#1= Male, 2= Female\n",
        "print(df.Gender.value_counts(dropna=False))\n",
        "#ShortlistedNY: 0 = applicant rejected | 1 = shorlisted\n",
        "print(pd.crosstab(df['Gender'], df['ShortlistedNY']))"
      ],
      "execution_count": 16,
      "outputs": [
        {
          "output_type": "stream",
          "name": "stdout",
          "text": [
            "2    202\n",
            "1     78\n",
            "Name: Gender, dtype: int64\n",
            "ShortlistedNY    0   1\n",
            "Gender                \n",
            "1               40  38\n",
            "2              152  50\n"
          ]
        }
      ]
    },
    {
      "cell_type": "code",
      "metadata": {
        "id": "N-3-7V-FDeEG"
      },
      "source": [
        "contigency= pd.crosstab(df['Gender'], df['ShortlistedNY'],normalize='index')"
      ],
      "execution_count": null,
      "outputs": []
    },
    {
      "cell_type": "code",
      "metadata": {
        "colab": {
          "base_uri": "https://localhost:8080/",
          "height": 514
        },
        "id": "jjiQ-tixER5v",
        "outputId": "47ab1bd4-3d6a-4c78-c064-951c2b1f7f4d"
      },
      "source": [
        "plt.figure(figsize=(12,8)) \n",
        "sns.heatmap(contigency, annot=True, cmap=\"YlGnBu\")"
      ],
      "execution_count": null,
      "outputs": [
        {
          "output_type": "execute_result",
          "data": {
            "text/plain": [
              "<matplotlib.axes._subplots.AxesSubplot at 0x7f2e09204390>"
            ]
          },
          "metadata": {},
          "execution_count": 76
        },
        {
          "output_type": "display_data",
          "data": {
            "image/png": "[encoded data removed]",
            "text/plain": [
              "<Figure size 864x576 with 2 Axes>"
            ]
          },
          "metadata": {
            "needs_background": "light"
          }
        }
      ]
    },
    {
      "cell_type": "code",
      "metadata": {
        "colab": {
          "base_uri": "https://localhost:8080/"
        },
        "id": "ZD-YGpzb_tz_",
        "outputId": "2abf33d3-078e-4556-b9da-8dfb9f4a6ed8"
      },
      "source": [
        "# Import the function\n",
        "from scipy.stats import chi2_contingency\n",
        "#Testing the relationship\n",
        "chi_res = chi2_contingency(pd.crosstab(df['Gender'], df['ShortlistedNY']))\n",
        "print('Chi2 Statistic: {}, p-value: {}'.format(chi_res[0], chi_res[1]))"
      ],
      "execution_count": 17,
      "outputs": [
        {
          "output_type": "stream",
          "name": "stdout",
          "text": [
            "Chi2 Statistic: 13.905157342657343, p-value: 0.00019227016669192619\n"
          ]
        }
      ]
    },
    {
      "cell_type": "code",
      "metadata": {
        "id": "ezwdpzNf1DWE",
        "colab": {
          "base_uri": "https://localhost:8080/"
        },
        "outputId": "5a7808e2-7806-4aa9-8ced-8dff44e0e0d2"
      },
      "source": [
        "chi_res2 = chi2_contingency(pd.crosstab(df['BAMEyn'], df['ShortlistedNY']))\n",
        "print('Chi2 Statistic: {}, p-value: {}'.format(chi_res2[0], chi_res2[1]))"
      ],
      "execution_count": 18,
      "outputs": [
        {
          "output_type": "stream",
          "name": "stdout",
          "text": [
            "Chi2 Statistic: 23.18417096270675, p-value: 1.4720402657609345e-06\n"
          ]
        }
      ]
    },
    {
      "cell_type": "code",
      "metadata": {
        "colab": {
          "base_uri": "https://localhost:8080/"
        },
        "id": "Ny1hUFZGS_1J",
        "outputId": "a49e0d05-cc7f-4855-bd83-bc1330dbb18e"
      },
      "source": [
        "chi_res3 = chi2_contingency(pd.crosstab(df['Gender'], df['Interviewed']))\n",
        "print('Chi2 Statistic: {}, p-value: {}'.format(chi_res3[0], chi_res3[1]))"
      ],
      "execution_count": 19,
      "outputs": [
        {
          "output_type": "stream",
          "name": "stdout",
          "text": [
            "Chi2 Statistic: 14.068750464790071, p-value: 0.0001762478497822533\n"
          ]
        }
      ]
    },
    {
      "cell_type": "code",
      "metadata": {
        "colab": {
          "base_uri": "https://localhost:8080/"
        },
        "id": "KZCYd0C_TZKh",
        "outputId": "737826d5-1887-40a2-9977-d39bd73e6e99"
      },
      "source": [
        "chi_res4 = chi2_contingency(pd.crosstab(df['BAMEyn'], df['Interviewed']))\n",
        "print('Chi2 Statistic: {}, p-value: {}'.format(chi_res4[0], chi_res4[1]))"
      ],
      "execution_count": 20,
      "outputs": [
        {
          "output_type": "stream",
          "name": "stdout",
          "text": [
            "Chi2 Statistic: 9.720889964145849, p-value: 0.0018218527537953782\n"
          ]
        }
      ]
    },
    {
      "cell_type": "code",
      "metadata": {
        "id": "zN8r21sHU9PS"
      },
      "source": [
        "chi_res4 = chi2_contingency(pd.crosstab(df['FemaleONpanel'], df['Interviewed']))\n",
        "print('Chi2 Statistic: {}, p-value: {}'.format(chi_res4[0], chi_res4[1]))"
      ],
      "execution_count": null,
      "outputs": []
    }
  ]
}